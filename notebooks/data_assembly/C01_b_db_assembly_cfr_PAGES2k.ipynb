{
 "cells": [
  {
   "cell_type": "markdown",
   "id": "c415011c",
   "metadata": {},
   "source": [
    "# Database Assembly using cfr's built in PAGES 2k database\n",
    "\n",
    "## Author\n",
    "[Tanaya Gondhalekar](https://orcid.org/0009-0004-2440-3266)"
   ]
  },
  {
   "cell_type": "markdown",
   "id": "5aa63239",
   "metadata": {},
   "source": [
    "This notebook walks through the process of building a proxy database containing only the PAGES 2k (v2.0.0) proxy records. This is the most straighforward and shortest way to obtain a ProxyDatabase to use for an emulation of LMRv2.1.\n",
    "\n",
    "Key steps include:\n",
    "- Filtering for annual and subannual records with sufficient temporal coverage\n",
    "- Optionally filtering by the archive types used in [Tardif et al. (2019)](https://cp.copernicus.org/articles/15/1251/2019/)\n",
    "\n",
    "The final result is saved as a NetCDF file that can be used in subsequent data assimilation notebooks."
   ]
  },
  {
   "cell_type": "code",
   "execution_count": 1,
   "id": "f2a3bbf3",
   "metadata": {},
   "outputs": [
    {
     "name": "stdout",
     "output_type": "stream",
     "text": [
      "octave not found, please see README\n"
     ]
    }
   ],
   "source": [
    "import cfr"
   ]
  },
  {
   "cell_type": "markdown",
   "id": "7adf7d2d",
   "metadata": {},
   "source": [
    "### Use _cfr_'s `.fetch()` to pull PAGES2kv2 from the cloud\n",
    "\n",
    "This is a `ProxyDatabase` object"
   ]
  },
  {
   "cell_type": "code",
   "execution_count": 2,
   "id": "ef7c7b10",
   "metadata": {},
   "outputs": [],
   "source": [
    "pdb = cfr.ProxyDatabase().fetch('PAGES2kv2')"
   ]
  },
  {
   "cell_type": "markdown",
   "id": "264c3fd7",
   "metadata": {},
   "source": [
    "### Use `ProxyDatabase.filter()` to filter by resolution \n",
    "We want only annual and subannually resolved records, hence dt ≤ 1.2 (a little higher than 1.0 as buffer)"
   ]
  },
  {
   "cell_type": "code",
   "execution_count": null,
   "id": "045a03f4",
   "metadata": {},
   "outputs": [],
   "source": [
    "filtered_pdb = pdb.filter(by='dt', keys= (0.0,1.2))"
   ]
  },
  {
   "cell_type": "markdown",
   "id": "cb90cf75",
   "metadata": {},
   "source": [
    "### (Optional) Use the same filtering method for archive type\n",
    "\n",
    "Instead of dt, we use ptype to specify which archives we want used. This eliminates certain records despite being annual/subanually resolved."
   ]
  },
  {
   "cell_type": "code",
   "execution_count": 4,
   "id": "b2cea129",
   "metadata": {},
   "outputs": [],
   "source": [
    "filtered_pdb_2= filtered_pdb.filter(by='ptype', keys=['coral', 'tree', 'bivalve', 'ice', 'lake.varve_thickness', 'lake.varve_property', 'lake.accumulation'])"
   ]
  },
  {
   "cell_type": "code",
   "execution_count": 5,
   "id": "e12e4808",
   "metadata": {},
   "outputs": [
    {
     "name": "stdout",
     "output_type": "stream",
     "text": [
      "571\n",
      "558\n"
     ]
    }
   ],
   "source": [
    "print(len(filtered_pdb.records))\n",
    "print(len(filtered_pdb_2.records))"
   ]
  },
  {
   "cell_type": "markdown",
   "id": "039a4f1c",
   "metadata": {},
   "source": [
    "### Save as a netCDF file to use in the data assimilation workflow"
   ]
  },
  {
   "cell_type": "code",
   "execution_count": null,
   "id": "0dd3dcf7",
   "metadata": {},
   "outputs": [
    {
     "name": "stdout",
     "output_type": "stream",
     "text": [
      "\u001b[33m\u001b[1m>>> Warning: this is an experimental feature.\n",
      "\u001b[0m\u001b[33m\u001b[1m>>> Warning: this is an experimental feature.\n",
      "\u001b[0m"
     ]
    },
    {
     "name": "stderr",
     "output_type": "stream",
     "text": [
      "100%|██████████| 571/571 [00:19<00:00, 29.11it/s]\n"
     ]
    },
    {
     "name": "stdout",
     "output_type": "stream",
     "text": [
      "\u001b[33m\u001b[1m>>> Data before 1 CE is dropped for records: ['NAm_019', 'Arc_026', 'NAm_011', 'Ant_010', 'Eur_003', 'Ant_007', 'Ant_028', 'Arc_033', 'SAm_030', 'Arc_032', 'Arc_002', 'Aus_001', 'Arc_020', 'Arc_022', 'Arc_004', 'Eur_006'].\n",
      "\u001b[0m\u001b[32m\u001b[1mProxyDatabase saved to: ./prev_data/filtered__res_cfr_pages2kv2.nc\n",
      "\u001b[0m"
     ]
    }
   ],
   "source": [
    "filtered_pdb.to_nc('./prev_data/filtered_res_cfr_pages2kv2.nc')"
   ]
  },
  {
   "cell_type": "code",
   "execution_count": null,
   "id": "80c00b6f",
   "metadata": {
    "scrolled": true
   },
   "outputs": [
    {
     "name": "stdout",
     "output_type": "stream",
     "text": [
      "\u001b[33m\u001b[1m>>> Warning: this is an experimental feature.\n",
      "\u001b[0m\u001b[33m\u001b[1m>>> Warning: this is an experimental feature.\n",
      "\u001b[0m"
     ]
    },
    {
     "name": "stderr",
     "output_type": "stream",
     "text": [
      "100%|██████████| 558/558 [00:18<00:00, 30.24it/s]\n"
     ]
    },
    {
     "name": "stdout",
     "output_type": "stream",
     "text": [
      "\u001b[33m\u001b[1m>>> Data before 1 CE is dropped for records: ['NAm_019', 'Arc_026', 'NAm_011', 'Ant_010', 'Eur_003', 'Ant_007', 'Ant_028', 'Arc_033', 'Arc_032', 'Arc_002', 'Aus_001', 'Arc_020', 'Arc_022', 'Arc_004', 'Eur_006'].\n",
      "\u001b[0m\u001b[32m\u001b[1mProxyDatabase saved to: ./prev_data/filtered__ptype_res_cfr_pages2kv2.nc\n",
      "\u001b[0m"
     ]
    }
   ],
   "source": [
    "filtered_pdb_2.to_nc('./prev_data/filtered_ptype_res_cfr_pages2kv2.nc')"
   ]
  },
  {
   "cell_type": "markdown",
   "id": "a6abf81d-1c12-4cf3-a2fe-e2164bc0b401",
   "metadata": {},
   "source": [
    "This notebook is intentionally short, showing how easy it is to this with `cfr`. However, that particular database is frozen in time. To take into account more recent updates to the PAGES 2k paleotemperature database, notebooks C01_c and C01_d showcase how to use the LiPDverse and LiPD Graph, as well as associated Python tools, before feeding the data to `cfr`."
   ]
  }
 ],
 "metadata": {
  "kernelspec": {
   "display_name": "Python 3 (ipykernel)",
   "language": "python",
   "name": "python3"
  },
  "language_info": {
   "codemirror_mode": {
    "name": "ipython",
    "version": 3
   },
   "file_extension": ".py",
   "mimetype": "text/x-python",
   "name": "python",
   "nbconvert_exporter": "python",
   "pygments_lexer": "ipython3",
   "version": "3.12.2"
  }
 },
 "nbformat": 4,
 "nbformat_minor": 5
}
